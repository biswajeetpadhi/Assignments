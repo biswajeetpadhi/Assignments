{
 "cells": [
  {
   "cell_type": "code",
   "execution_count": 2,
   "metadata": {
    "collapsed": true,
    "pycharm": {
     "name": "#%%\n"
    }
   },
   "outputs": [],
   "source": [
    "import pandas as pd\n",
    "import numpy as np\n",
    "import matplotlib.pyplot as plt\n",
    "import seaborn as sns"
   ]
  },
  {
   "cell_type": "code",
   "execution_count": 6,
   "outputs": [],
   "source": [
    "df = pd.read_csv(\"D:\\\\Assignments\\\\Data Preprocessing\\\\DataSets-Data Pre Processing\\\\DataSets\\\\boston_data.csv\")"
   ],
   "metadata": {
    "collapsed": false,
    "pycharm": {
     "name": "#%%\n"
    }
   }
  },
  {
   "cell_type": "code",
   "execution_count": 7,
   "outputs": [
    {
     "data": {
      "text/plain": "         crim    zn  indus  chas    nox     rm    age     dis   rad    tax  \\\n0     0.15876   0.0  10.81   0.0  0.413  5.961   17.5  5.2873   4.0  305.0   \n1     0.10328  25.0   5.13   0.0  0.453  5.927   47.2  6.9320   8.0  284.0   \n2     0.34940   0.0   9.90   0.0  0.544  5.972   76.7  3.1025   4.0  304.0   \n3     2.73397   0.0  19.58   0.0  0.871  5.597   94.9  1.5257   5.0  403.0   \n4     0.04337  21.0   5.64   0.0  0.439  6.115   63.0  6.8147   4.0  243.0   \n..        ...   ...    ...   ...    ...    ...    ...     ...   ...    ...   \n399   9.32909   0.0  18.10   0.0  0.713  6.185   98.7  2.2616  24.0  666.0   \n400  51.13580   0.0  18.10   0.0  0.597  5.757  100.0  1.4130  24.0  666.0   \n401   0.01501  90.0   1.21   1.0  0.401  7.923   24.8  5.8850   1.0  198.0   \n402   0.02055  85.0   0.74   0.0  0.410  6.383   35.7  9.1876   2.0  313.0   \n403   0.08244  30.0   4.93   0.0  0.428  6.481   18.5  6.1899   6.0  300.0   \n\n     ptratio   black  lstat  medv  \n0       19.2  376.94   9.88  21.7  \n1       19.7  396.90   9.22  19.6  \n2       18.4  396.24   9.97  20.3  \n3       14.7  351.85  21.45  15.4  \n4       16.8  393.97   9.43  20.5  \n..       ...     ...    ...   ...  \n399     20.2  396.90  18.13  14.1  \n400     20.2    2.60  10.11  15.0  \n401     13.6  395.52   3.16  50.0  \n402     17.3  396.90   5.77  24.7  \n403     16.6  379.41   6.36  23.7  \n\n[404 rows x 14 columns]",
      "text/html": "<div>\n<style scoped>\n    .dataframe tbody tr th:only-of-type {\n        vertical-align: middle;\n    }\n\n    .dataframe tbody tr th {\n        vertical-align: top;\n    }\n\n    .dataframe thead th {\n        text-align: right;\n    }\n</style>\n<table border=\"1\" class=\"dataframe\">\n  <thead>\n    <tr style=\"text-align: right;\">\n      <th></th>\n      <th>crim</th>\n      <th>zn</th>\n      <th>indus</th>\n      <th>chas</th>\n      <th>nox</th>\n      <th>rm</th>\n      <th>age</th>\n      <th>dis</th>\n      <th>rad</th>\n      <th>tax</th>\n      <th>ptratio</th>\n      <th>black</th>\n      <th>lstat</th>\n      <th>medv</th>\n    </tr>\n  </thead>\n  <tbody>\n    <tr>\n      <th>0</th>\n      <td>0.15876</td>\n      <td>0.0</td>\n      <td>10.81</td>\n      <td>0.0</td>\n      <td>0.413</td>\n      <td>5.961</td>\n      <td>17.5</td>\n      <td>5.2873</td>\n      <td>4.0</td>\n      <td>305.0</td>\n      <td>19.2</td>\n      <td>376.94</td>\n      <td>9.88</td>\n      <td>21.7</td>\n    </tr>\n    <tr>\n      <th>1</th>\n      <td>0.10328</td>\n      <td>25.0</td>\n      <td>5.13</td>\n      <td>0.0</td>\n      <td>0.453</td>\n      <td>5.927</td>\n      <td>47.2</td>\n      <td>6.9320</td>\n      <td>8.0</td>\n      <td>284.0</td>\n      <td>19.7</td>\n      <td>396.90</td>\n      <td>9.22</td>\n      <td>19.6</td>\n    </tr>\n    <tr>\n      <th>2</th>\n      <td>0.34940</td>\n      <td>0.0</td>\n      <td>9.90</td>\n      <td>0.0</td>\n      <td>0.544</td>\n      <td>5.972</td>\n      <td>76.7</td>\n      <td>3.1025</td>\n      <td>4.0</td>\n      <td>304.0</td>\n      <td>18.4</td>\n      <td>396.24</td>\n      <td>9.97</td>\n      <td>20.3</td>\n    </tr>\n    <tr>\n      <th>3</th>\n      <td>2.73397</td>\n      <td>0.0</td>\n      <td>19.58</td>\n      <td>0.0</td>\n      <td>0.871</td>\n      <td>5.597</td>\n      <td>94.9</td>\n      <td>1.5257</td>\n      <td>5.0</td>\n      <td>403.0</td>\n      <td>14.7</td>\n      <td>351.85</td>\n      <td>21.45</td>\n      <td>15.4</td>\n    </tr>\n    <tr>\n      <th>4</th>\n      <td>0.04337</td>\n      <td>21.0</td>\n      <td>5.64</td>\n      <td>0.0</td>\n      <td>0.439</td>\n      <td>6.115</td>\n      <td>63.0</td>\n      <td>6.8147</td>\n      <td>4.0</td>\n      <td>243.0</td>\n      <td>16.8</td>\n      <td>393.97</td>\n      <td>9.43</td>\n      <td>20.5</td>\n    </tr>\n    <tr>\n      <th>...</th>\n      <td>...</td>\n      <td>...</td>\n      <td>...</td>\n      <td>...</td>\n      <td>...</td>\n      <td>...</td>\n      <td>...</td>\n      <td>...</td>\n      <td>...</td>\n      <td>...</td>\n      <td>...</td>\n      <td>...</td>\n      <td>...</td>\n      <td>...</td>\n    </tr>\n    <tr>\n      <th>399</th>\n      <td>9.32909</td>\n      <td>0.0</td>\n      <td>18.10</td>\n      <td>0.0</td>\n      <td>0.713</td>\n      <td>6.185</td>\n      <td>98.7</td>\n      <td>2.2616</td>\n      <td>24.0</td>\n      <td>666.0</td>\n      <td>20.2</td>\n      <td>396.90</td>\n      <td>18.13</td>\n      <td>14.1</td>\n    </tr>\n    <tr>\n      <th>400</th>\n      <td>51.13580</td>\n      <td>0.0</td>\n      <td>18.10</td>\n      <td>0.0</td>\n      <td>0.597</td>\n      <td>5.757</td>\n      <td>100.0</td>\n      <td>1.4130</td>\n      <td>24.0</td>\n      <td>666.0</td>\n      <td>20.2</td>\n      <td>2.60</td>\n      <td>10.11</td>\n      <td>15.0</td>\n    </tr>\n    <tr>\n      <th>401</th>\n      <td>0.01501</td>\n      <td>90.0</td>\n      <td>1.21</td>\n      <td>1.0</td>\n      <td>0.401</td>\n      <td>7.923</td>\n      <td>24.8</td>\n      <td>5.8850</td>\n      <td>1.0</td>\n      <td>198.0</td>\n      <td>13.6</td>\n      <td>395.52</td>\n      <td>3.16</td>\n      <td>50.0</td>\n    </tr>\n    <tr>\n      <th>402</th>\n      <td>0.02055</td>\n      <td>85.0</td>\n      <td>0.74</td>\n      <td>0.0</td>\n      <td>0.410</td>\n      <td>6.383</td>\n      <td>35.7</td>\n      <td>9.1876</td>\n      <td>2.0</td>\n      <td>313.0</td>\n      <td>17.3</td>\n      <td>396.90</td>\n      <td>5.77</td>\n      <td>24.7</td>\n    </tr>\n    <tr>\n      <th>403</th>\n      <td>0.08244</td>\n      <td>30.0</td>\n      <td>4.93</td>\n      <td>0.0</td>\n      <td>0.428</td>\n      <td>6.481</td>\n      <td>18.5</td>\n      <td>6.1899</td>\n      <td>6.0</td>\n      <td>300.0</td>\n      <td>16.6</td>\n      <td>379.41</td>\n      <td>6.36</td>\n      <td>23.7</td>\n    </tr>\n  </tbody>\n</table>\n<p>404 rows × 14 columns</p>\n</div>"
     },
     "execution_count": 7,
     "metadata": {},
     "output_type": "execute_result"
    }
   ],
   "source": [
    "df"
   ],
   "metadata": {
    "collapsed": false,
    "pycharm": {
     "name": "#%%\n"
    }
   }
  },
  {
   "cell_type": "code",
   "execution_count": 17,
   "outputs": [
    {
     "data": {
      "text/plain": "<AxesSubplot: >"
     },
     "execution_count": 17,
     "metadata": {},
     "output_type": "execute_result"
    },
    {
     "data": {
      "text/plain": "<Figure size 640x480 with 1 Axes>",
      "image/png": "[encoded data removed]"
     },
     "metadata": {},
     "output_type": "display_data"
    }
   ],
   "source": [
    "sns.boxplot(df[\"age\"])"
   ],
   "metadata": {
    "collapsed": false,
    "pycharm": {
     "name": "#%%\n"
    }
   }
  },
  {
   "cell_type": "code",
   "execution_count": 12,
   "outputs": [
    {
     "data": {
      "text/plain": "48.349999999999994"
     },
     "execution_count": 12,
     "metadata": {},
     "output_type": "execute_result"
    }
   ],
   "source": [
    "IQR = df[\"age\"].quantile(0.75) - df[\"age\"].quantile(0.25)\n",
    "IQR"
   ],
   "metadata": {
    "collapsed": false,
    "pycharm": {
     "name": "#%%\n"
    }
   }
  },
  {
   "cell_type": "code",
   "execution_count": 18,
   "outputs": [
    {
     "data": {
      "text/plain": "-26.724999999999994"
     },
     "execution_count": 18,
     "metadata": {},
     "output_type": "execute_result"
    }
   ],
   "source": [
    "low_limit = df[\"age\"].quantile(0.25) - (IQR*1.5)\n",
    "low_limit"
   ],
   "metadata": {
    "collapsed": false,
    "pycharm": {
     "name": "#%%\n"
    }
   }
  },
  {
   "cell_type": "code",
   "execution_count": 19,
   "outputs": [
    {
     "data": {
      "text/plain": "166.67499999999998"
     },
     "execution_count": 19,
     "metadata": {},
     "output_type": "execute_result"
    }
   ],
   "source": [
    "up_limit = df[\"age\"].quantile(0.75) + (IQR*1.5)\n",
    "up_limit"
   ],
   "metadata": {
    "collapsed": false,
    "pycharm": {
     "name": "#%%\n"
    }
   }
  },
  {
   "cell_type": "code",
   "execution_count": 20,
   "outputs": [],
   "source": [
    "o1 = np.where(df[\"age\"] > up_limit, up_limit,np.where(df[\"age\"] < low_limit, low_limit, df[\"age\"]))"
   ],
   "metadata": {
    "collapsed": false,
    "pycharm": {
     "name": "#%%\n"
    }
   }
  },
  {
   "cell_type": "code",
   "execution_count": 21,
   "outputs": [
    {
     "data": {
      "text/plain": "array([ 17.5,  47.2,  76.7,  94.9,  63. ,  38.9,  17.5,  82.8,  94.3,\n        96. ,  89.1,  42.2,  87.3,  67.8, 100. ,  74.9,  52.9,  97.3,\n        97.3, 100. ,  95.6,  97.9,  45.8,  33.1,  59.7,  77.7, 100. ,\n         9.9,  32. ,  18.5,  18.8,  62.2,  42.3,  83.2, 100. ,  54.3,\n        53.6,  66.5,  87.9,  32.2,  91.1, 100. ,  70.4,  89.9,  81.3,\n        62. ,  84. ,  82.6,  89.4,  94.6,  96.2, 100. ,  94.5,  15.7,\n        78.3,  77. ,  51.8,  15.3,  61.5,  84.5, 100. ,  99.3, 100. ,\n        70.3,  53.6,  61.1,  40.4,  53.8,  98.4,  89.3,  38.4,  96.8,\n        54.4,  97.1,  71.9,  88. ,  73.9,  98.9,  31.3,  89. ,  69.5,\n        97.2,  53.2,  90. ,  48.2,  52.6,  78.9,  74.5,  67. , 100. ,\n        37.3,  80.3,  94.1,  84.2,  98.8,   6.2,  94.4,  37.2,  88.6,\n        96.6,   2.9,  13.9,  83.3,   6.8,  80.8,  93.6,  29.7,  49.3,\n        97.4,  58.7,  45.4,  36.1,  38.3, 100. , 100. ,  90. ,  85.4,\n        87.3,  52.3,  97. ,  37.8,  54. ,  85.7,  21.8,  97.8,  94.1,\n         9.8,  47.2,  58.1,  68.2,  69.6,  89.8,  96.1,  54.2,  91.8,\n        58.4,  91.3,  22.9,  87.6, 100. , 100. , 100. ,  82.9, 100. ,\n        98.3,  30.2,  74.8,  92.2,  82.9,  71. ,  59.1,  97.7,  64.7,\n        79.2,  21.1,  96.9,  86.5,  29.1, 100. , 100. ,  31.9,  35.9,\n        61.4,  89.2,  41.5,  91. ,  77.7,  91.2,  91.4,  85.9,  87.9,\n        91.8,  36.6,  94.7,  69.1,  85.1,  34.5, 100. ,  42.1,  93.3,\n       100. ,  98.2,  95.4,  39. ,  59.7,  33.3,  28.9,  71.3,  91.2,\n        68.7,  98.9,  43.7,  36.6,  95.8, 100. ,  98.5,  94.8,  31.1,\n        92.6,  36.6,  86.9,  65.1,  27.6,  97.9,  88.5,  88.5,  97.4,\n        88. ,  79.8,  97. ,  91.6,  21.4,  34.1,  14.7,  70.6,  92.9,\n        91. ,  98.3,  88. ,  22.3, 100. ,  98. ,  90.7,  85.1,  47.4,\n       100. ,  90.8,  84.1,  41.1,  54.3,  44.4,  97. ,  27.7,  74.3,\n        87.9,  84.4,  94.3, 100. ,  49. ,  33. ,  65.3,  92.6,  90.4,\n        95.2,  72.9,  32.1,  76.5,  38.5,  32.2,  40.1,  56. ,  21.9,\n        19.5,  73.4,  97.4,  58. ,  13. ,  65.2, 100. ,  46.7,  99.1,\n        98.1,  53.7,  43.4,  76.5,  33.8,  66.6,  36.8,  40.3, 100. ,\n        83.7,  48.5,  93.9,  78.7,  92.6,  82.5,  84.1,  82.5,  95.3,\n        71.7,  17. ,  97.9, 100. ,  97.3,  40. , 100. ,  32.3,  62.5,\n        65.4,  88.8,  94. ,  76.5,  48. ,  94.6,  59.6,  98.2,  56.5,\n        92.1,  45. ,  72.5,  56.1,  72.7,  45.6,  73.3,  95.4,  70.2,\n         6. ,  18.4,   6.6,  93.5,  86.1,  45.8,  86.5,  96.7,  32. ,\n        91.9,  95. ,  21.4,  76.9,   8.4,  58.7,  17.8,  84.6, 100. ,\n        10. ,  96. ,  76.7,  49.9,  52.8,  96.7,   8.9,  83.5,  28.8,\n        94.1,  96.1,   7.8,  77.8,  27.9,  75. ,  67.2,  51. ,  92.4,\n        98.8,  68.8,  83. ,  33.5,  17.7, 100. ,  79.9, 100. ,  95.6,\n        97.9,  96.2,  21.4,  95. ,  93.3,  73.1,  28.1,  49.1,  59.5,\n        74.4,  38.1,  32.2, 100. ,  58.5,  94.5,  95.6,  65.2,  66.1,\n        61.5,  63.1,  93.8,  66.2,  67.6,  78.1,  25.8,   6.5, 100. ,\n        96.2, 100. ,  91.9,  30.8,  97.5,  87.9,  95.3,  51.9,  98.8,\n        47.6,  70.4,  52.5,  29.3,  56.4,   6.6,  15.8,  18.4,  45.1,\n        69.7,  81.6,  90.3,  98.7, 100. ,  24.8,  35.7,  18.5])"
     },
     "execution_count": 21,
     "metadata": {},
     "output_type": "execute_result"
    }
   ],
   "source": [
    "o1"
   ],
   "metadata": {
    "collapsed": false,
    "pycharm": {
     "name": "#%%\n"
    }
   }
  },
  {
   "cell_type": "code",
   "execution_count": 22,
   "outputs": [
    {
     "data": {
      "text/plain": "<AxesSubplot: >"
     },
     "execution_count": 22,
     "metadata": {},
     "output_type": "execute_result"
    },
    {
     "data": {
      "text/plain": "<Figure size 640x480 with 1 Axes>",
      "image/png": "[encoded data removed]"
     },
     "metadata": {},
     "output_type": "display_data"
    }
   ],
   "source": [
    "sns.boxplot(o1)"
   ],
   "metadata": {
    "collapsed": false,
    "pycharm": {
     "name": "#%%\n"
    }
   }
  },
  {
   "cell_type": "code",
   "execution_count": 23,
   "outputs": [],
   "source": [
    "df[\"rem_out\"] = pd.DataFrame(o1)"
   ],
   "metadata": {
    "collapsed": false,
    "pycharm": {
     "name": "#%%\n"
    }
   }
  },
  {
   "cell_type": "code",
   "execution_count": 24,
   "outputs": [
    {
     "data": {
      "text/plain": "         crim    zn  indus  chas    nox     rm    age     dis   rad    tax  \\\n0     0.15876   0.0  10.81   0.0  0.413  5.961   17.5  5.2873   4.0  305.0   \n1     0.10328  25.0   5.13   0.0  0.453  5.927   47.2  6.9320   8.0  284.0   \n2     0.34940   0.0   9.90   0.0  0.544  5.972   76.7  3.1025   4.0  304.0   \n3     2.73397   0.0  19.58   0.0  0.871  5.597   94.9  1.5257   5.0  403.0   \n4     0.04337  21.0   5.64   0.0  0.439  6.115   63.0  6.8147   4.0  243.0   \n..        ...   ...    ...   ...    ...    ...    ...     ...   ...    ...   \n399   9.32909   0.0  18.10   0.0  0.713  6.185   98.7  2.2616  24.0  666.0   \n400  51.13580   0.0  18.10   0.0  0.597  5.757  100.0  1.4130  24.0  666.0   \n401   0.01501  90.0   1.21   1.0  0.401  7.923   24.8  5.8850   1.0  198.0   \n402   0.02055  85.0   0.74   0.0  0.410  6.383   35.7  9.1876   2.0  313.0   \n403   0.08244  30.0   4.93   0.0  0.428  6.481   18.5  6.1899   6.0  300.0   \n\n     ptratio   black  lstat  medv  rem_out  \n0       19.2  376.94   9.88  21.7     17.5  \n1       19.7  396.90   9.22  19.6     47.2  \n2       18.4  396.24   9.97  20.3     76.7  \n3       14.7  351.85  21.45  15.4     94.9  \n4       16.8  393.97   9.43  20.5     63.0  \n..       ...     ...    ...   ...      ...  \n399     20.2  396.90  18.13  14.1     98.7  \n400     20.2    2.60  10.11  15.0    100.0  \n401     13.6  395.52   3.16  50.0     24.8  \n402     17.3  396.90   5.77  24.7     35.7  \n403     16.6  379.41   6.36  23.7     18.5  \n\n[404 rows x 15 columns]",
      "text/html": "<div>\n<style scoped>\n    .dataframe tbody tr th:only-of-type {\n        vertical-align: middle;\n    }\n\n    .dataframe tbody tr th {\n        vertical-align: top;\n    }\n\n    .dataframe thead th {\n        text-align: right;\n    }\n</style>\n<table border=\"1\" class=\"dataframe\">\n  <thead>\n    <tr style=\"text-align: right;\">\n      <th></th>\n      <th>crim</th>\n      <th>zn</th>\n      <th>indus</th>\n      <th>chas</th>\n      <th>nox</th>\n      <th>rm</th>\n      <th>age</th>\n      <th>dis</th>\n      <th>rad</th>\n      <th>tax</th>\n      <th>ptratio</th>\n      <th>black</th>\n      <th>lstat</th>\n      <th>medv</th>\n      <th>rem_out</th>\n    </tr>\n  </thead>\n  <tbody>\n    <tr>\n      <th>0</th>\n      <td>0.15876</td>\n      <td>0.0</td>\n      <td>10.81</td>\n      <td>0.0</td>\n      <td>0.413</td>\n      <td>5.961</td>\n      <td>17.5</td>\n      <td>5.2873</td>\n      <td>4.0</td>\n      <td>305.0</td>\n      <td>19.2</td>\n      <td>376.94</td>\n      <td>9.88</td>\n      <td>21.7</td>\n      <td>17.5</td>\n    </tr>\n    <tr>\n      <th>1</th>\n      <td>0.10328</td>\n      <td>25.0</td>\n      <td>5.13</td>\n      <td>0.0</td>\n      <td>0.453</td>\n      <td>5.927</td>\n      <td>47.2</td>\n      <td>6.9320</td>\n      <td>8.0</td>\n      <td>284.0</td>\n      <td>19.7</td>\n      <td>396.90</td>\n      <td>9.22</td>\n      <td>19.6</td>\n      <td>47.2</td>\n    </tr>\n    <tr>\n      <th>2</th>\n      <td>0.34940</td>\n      <td>0.0</td>\n      <td>9.90</td>\n      <td>0.0</td>\n      <td>0.544</td>\n      <td>5.972</td>\n      <td>76.7</td>\n      <td>3.1025</td>\n      <td>4.0</td>\n      <td>304.0</td>\n      <td>18.4</td>\n      <td>396.24</td>\n      <td>9.97</td>\n      <td>20.3</td>\n      <td>76.7</td>\n    </tr>\n    <tr>\n      <th>3</th>\n      <td>2.73397</td>\n      <td>0.0</td>\n      <td>19.58</td>\n      <td>0.0</td>\n      <td>0.871</td>\n      <td>5.597</td>\n      <td>94.9</td>\n      <td>1.5257</td>\n      <td>5.0</td>\n      <td>403.0</td>\n      <td>14.7</td>\n      <td>351.85</td>\n      <td>21.45</td>\n      <td>15.4</td>\n      <td>94.9</td>\n    </tr>\n    <tr>\n      <th>4</th>\n      <td>0.04337</td>\n      <td>21.0</td>\n      <td>5.64</td>\n      <td>0.0</td>\n      <td>0.439</td>\n      <td>6.115</td>\n      <td>63.0</td>\n      <td>6.8147</td>\n      <td>4.0</td>\n      <td>243.0</td>\n      <td>16.8</td>\n      <td>393.97</td>\n      <td>9.43</td>\n      <td>20.5</td>\n      <td>63.0</td>\n    </tr>\n    <tr>\n      <th>...</th>\n      <td>...</td>\n      <td>...</td>\n      <td>...</td>\n      <td>...</td>\n      <td>...</td>\n      <td>...</td>\n      <td>...</td>\n      <td>...</td>\n      <td>...</td>\n      <td>...</td>\n      <td>...</td>\n      <td>...</td>\n      <td>...</td>\n      <td>...</td>\n      <td>...</td>\n    </tr>\n    <tr>\n      <th>399</th>\n      <td>9.32909</td>\n      <td>0.0</td>\n      <td>18.10</td>\n      <td>0.0</td>\n      <td>0.713</td>\n      <td>6.185</td>\n      <td>98.7</td>\n      <td>2.2616</td>\n      <td>24.0</td>\n      <td>666.0</td>\n      <td>20.2</td>\n      <td>396.90</td>\n      <td>18.13</td>\n      <td>14.1</td>\n      <td>98.7</td>\n    </tr>\n    <tr>\n      <th>400</th>\n      <td>51.13580</td>\n      <td>0.0</td>\n      <td>18.10</td>\n      <td>0.0</td>\n      <td>0.597</td>\n      <td>5.757</td>\n      <td>100.0</td>\n      <td>1.4130</td>\n      <td>24.0</td>\n      <td>666.0</td>\n      <td>20.2</td>\n      <td>2.60</td>\n      <td>10.11</td>\n      <td>15.0</td>\n      <td>100.0</td>\n    </tr>\n    <tr>\n      <th>401</th>\n      <td>0.01501</td>\n      <td>90.0</td>\n      <td>1.21</td>\n      <td>1.0</td>\n      <td>0.401</td>\n      <td>7.923</td>\n      <td>24.8</td>\n      <td>5.8850</td>\n      <td>1.0</td>\n      <td>198.0</td>\n      <td>13.6</td>\n      <td>395.52</td>\n      <td>3.16</td>\n      <td>50.0</td>\n      <td>24.8</td>\n    </tr>\n    <tr>\n      <th>402</th>\n      <td>0.02055</td>\n      <td>85.0</td>\n      <td>0.74</td>\n      <td>0.0</td>\n      <td>0.410</td>\n      <td>6.383</td>\n      <td>35.7</td>\n      <td>9.1876</td>\n      <td>2.0</td>\n      <td>313.0</td>\n      <td>17.3</td>\n      <td>396.90</td>\n      <td>5.77</td>\n      <td>24.7</td>\n      <td>35.7</td>\n    </tr>\n    <tr>\n      <th>403</th>\n      <td>0.08244</td>\n      <td>30.0</td>\n      <td>4.93</td>\n      <td>0.0</td>\n      <td>0.428</td>\n      <td>6.481</td>\n      <td>18.5</td>\n      <td>6.1899</td>\n      <td>6.0</td>\n      <td>300.0</td>\n      <td>16.6</td>\n      <td>379.41</td>\n      <td>6.36</td>\n      <td>23.7</td>\n      <td>18.5</td>\n    </tr>\n  </tbody>\n</table>\n<p>404 rows × 15 columns</p>\n</div>"
     },
     "execution_count": 24,
     "metadata": {},
     "output_type": "execute_result"
    }
   ],
   "source": [
    "df"
   ],
   "metadata": {
    "collapsed": false,
    "pycharm": {
     "name": "#%%\n"
    }
   }
  },
  {
   "cell_type": "code",
   "execution_count": 25,
   "outputs": [],
   "source": [
    "from feature_engine.outliers import Winsorizer"
   ],
   "metadata": {
    "collapsed": false,
    "pycharm": {
     "name": "#%%\n"
    }
   }
  },
  {
   "cell_type": "code",
   "execution_count": 27,
   "outputs": [],
   "source": [
    "winsor = Winsorizer(capping_method= \"gaussian\", tail= \"both\", fold= 1.5, variables= [\"age\"])"
   ],
   "metadata": {
    "collapsed": false,
    "pycharm": {
     "name": "#%%\n"
    }
   }
  },
  {
   "cell_type": "code",
   "execution_count": 29,
   "outputs": [
    {
     "data": {
      "text/plain": "Winsorizer(fold=1.5, tail='both', variables=['age'])",
      "text/html": "<style>#sk-container-id-2 {color: black;background-color: white;}#sk-container-id-2 pre{padding: 0;}#sk-container-id-2 div.sk-toggleable {background-color: white;}#sk-container-id-2 label.sk-toggleable__label {cursor: pointer;display: block;width: 100%;margin-bottom: 0;padding: 0.3em;box-sizing: border-box;text-align: center;}#sk-container-id-2 label.sk-toggleable__label-arrow:before {content: \"▸\";float: left;margin-right: 0.25em;color: #696969;}#sk-container-id-2 label.sk-toggleable__label-arrow:hover:before {color: black;}#sk-container-id-2 div.sk-estimator:hover label.sk-toggleable__label-arrow:before {color: black;}#sk-container-id-2 div.sk-toggleable__content {max-height: 0;max-width: 0;overflow: hidden;text-align: left;background-color: #f0f8ff;}#sk-container-id-2 div.sk-toggleable__content pre {margin: 0.2em;color: black;border-radius: 0.25em;background-color: #f0f8ff;}#sk-container-id-2 input.sk-toggleable__control:checked~div.sk-toggleable__content {max-height: 200px;max-width: 100%;overflow: auto;}#sk-container-id-2 input.sk-toggleable__control:checked~label.sk-toggleable__label-arrow:before {content: \"▾\";}#sk-container-id-2 div.sk-estimator input.sk-toggleable__control:checked~label.sk-toggleable__label {background-color: #d4ebff;}#sk-container-id-2 div.sk-label input.sk-toggleable__control:checked~label.sk-toggleable__label {background-color: #d4ebff;}#sk-container-id-2 input.sk-hidden--visually {border: 0;clip: rect(1px 1px 1px 1px);clip: rect(1px, 1px, 1px, 1px);height: 1px;margin: -1px;overflow: hidden;padding: 0;position: absolute;width: 1px;}#sk-container-id-2 div.sk-estimator {font-family: monospace;background-color: #f0f8ff;border: 1px dotted black;border-radius: 0.25em;box-sizing: border-box;margin-bottom: 0.5em;}#sk-container-id-2 div.sk-estimator:hover {background-color: #d4ebff;}#sk-container-id-2 div.sk-parallel-item::after {content: \"\";width: 100%;border-bottom: 1px solid gray;flex-grow: 1;}#sk-container-id-2 div.sk-label:hover label.sk-toggleable__label {background-color: #d4ebff;}#sk-container-id-2 div.sk-serial::before {content: \"\";position: absolute;border-left: 1px solid gray;box-sizing: border-box;top: 0;bottom: 0;left: 50%;z-index: 0;}#sk-container-id-2 div.sk-serial {display: flex;flex-direction: column;align-items: center;background-color: white;padding-right: 0.2em;padding-left: 0.2em;position: relative;}#sk-container-id-2 div.sk-item {position: relative;z-index: 1;}#sk-container-id-2 div.sk-parallel {display: flex;align-items: stretch;justify-content: center;background-color: white;position: relative;}#sk-container-id-2 div.sk-item::before, #sk-container-id-2 div.sk-parallel-item::before {content: \"\";position: absolute;border-left: 1px solid gray;box-sizing: border-box;top: 0;bottom: 0;left: 50%;z-index: -1;}#sk-container-id-2 div.sk-parallel-item {display: flex;flex-direction: column;z-index: 1;position: relative;background-color: white;}#sk-container-id-2 div.sk-parallel-item:first-child::after {align-self: flex-end;width: 50%;}#sk-container-id-2 div.sk-parallel-item:last-child::after {align-self: flex-start;width: 50%;}#sk-container-id-2 div.sk-parallel-item:only-child::after {width: 0;}#sk-container-id-2 div.sk-dashed-wrapped {border: 1px dashed gray;margin: 0 0.4em 0.5em 0.4em;box-sizing: border-box;padding-bottom: 0.4em;background-color: white;}#sk-container-id-2 div.sk-label label {font-family: monospace;font-weight: bold;display: inline-block;line-height: 1.2em;}#sk-container-id-2 div.sk-label-container {text-align: center;}#sk-container-id-2 div.sk-container {/* jupyter's `normalize.less` sets `[hidden] { display: none; }` but bootstrap.min.css set `[hidden] { display: none !important; }` so we also need the `!important` here to be able to override the default hidden behavior on the sphinx rendered scikit-learn.org. See: https://github.com/scikit-learn/scikit-learn/issues/21755 */display: inline-block !important;position: relative;}#sk-container-id-2 div.sk-text-repr-fallback {display: none;}</style><div id=\"sk-container-id-2\" class=\"sk-top-container\"><div class=\"sk-text-repr-fallback\"><pre>Winsorizer(fold=1.5, tail=&#x27;both&#x27;, variables=[&#x27;age&#x27;])</pre><b>In a Jupyter environment, please rerun this cell to show the HTML representation or trust the notebook. <br />On GitHub, the HTML representation is unable to render, please try loading this page with nbviewer.org.</b></div><div class=\"sk-container\" hidden><div class=\"sk-item\"><div class=\"sk-estimator sk-toggleable\"><input class=\"sk-toggleable__control sk-hidden--visually\" id=\"sk-estimator-id-2\" type=\"checkbox\" checked><label for=\"sk-estimator-id-2\" class=\"sk-toggleable__label sk-toggleable__label-arrow\">Winsorizer</label><div class=\"sk-toggleable__content\"><pre>Winsorizer(fold=1.5, tail=&#x27;both&#x27;, variables=[&#x27;age&#x27;])</pre></div></div></div></div></div>"
     },
     "execution_count": 29,
     "metadata": {},
     "output_type": "execute_result"
    }
   ],
   "source": [
    "winsor"
   ],
   "metadata": {
    "collapsed": false,
    "pycharm": {
     "name": "#%%\n"
    }
   }
  },
  {
   "cell_type": "code",
   "execution_count": 30,
   "outputs": [],
   "source": [
    "df[\"out_win\"] = winsor.fit_transform(df[[\"age\"]])"
   ],
   "metadata": {
    "collapsed": false,
    "pycharm": {
     "name": "#%%\n"
    }
   }
  },
  {
   "cell_type": "code",
   "execution_count": 31,
   "outputs": [
    {
     "data": {
      "text/plain": "         crim    zn  indus  chas    nox     rm    age     dis   rad    tax  \\\n0     0.15876   0.0  10.81   0.0  0.413  5.961   17.5  5.2873   4.0  305.0   \n1     0.10328  25.0   5.13   0.0  0.453  5.927   47.2  6.9320   8.0  284.0   \n2     0.34940   0.0   9.90   0.0  0.544  5.972   76.7  3.1025   4.0  304.0   \n3     2.73397   0.0  19.58   0.0  0.871  5.597   94.9  1.5257   5.0  403.0   \n4     0.04337  21.0   5.64   0.0  0.439  6.115   63.0  6.8147   4.0  243.0   \n..        ...   ...    ...   ...    ...    ...    ...     ...   ...    ...   \n399   9.32909   0.0  18.10   0.0  0.713  6.185   98.7  2.2616  24.0  666.0   \n400  51.13580   0.0  18.10   0.0  0.597  5.757  100.0  1.4130  24.0  666.0   \n401   0.01501  90.0   1.21   1.0  0.401  7.923   24.8  5.8850   1.0  198.0   \n402   0.02055  85.0   0.74   0.0  0.410  6.383   35.7  9.1876   2.0  313.0   \n403   0.08244  30.0   4.93   0.0  0.428  6.481   18.5  6.1899   6.0  300.0   \n\n     ptratio   black  lstat  medv  rem_out     out_win  \n0       19.2  376.94   9.88  21.7     17.5   26.554654  \n1       19.7  396.90   9.22  19.6     47.2   47.200000  \n2       18.4  396.24   9.97  20.3     76.7   76.700000  \n3       14.7  351.85  21.45  15.4     94.9   94.900000  \n4       16.8  393.97   9.43  20.5     63.0   63.000000  \n..       ...     ...    ...   ...      ...         ...  \n399     20.2  396.90  18.13  14.1     98.7   98.700000  \n400     20.2    2.60  10.11  15.0    100.0  100.000000  \n401     13.6  395.52   3.16  50.0     24.8   26.554654  \n402     17.3  396.90   5.77  24.7     35.7   35.700000  \n403     16.6  379.41   6.36  23.7     18.5   26.554654  \n\n[404 rows x 16 columns]",
      "text/html": "<div>\n<style scoped>\n    .dataframe tbody tr th:only-of-type {\n        vertical-align: middle;\n    }\n\n    .dataframe tbody tr th {\n        vertical-align: top;\n    }\n\n    .dataframe thead th {\n        text-align: right;\n    }\n</style>\n<table border=\"1\" class=\"dataframe\">\n  <thead>\n    <tr style=\"text-align: right;\">\n      <th></th>\n      <th>crim</th>\n      <th>zn</th>\n      <th>indus</th>\n      <th>chas</th>\n      <th>nox</th>\n      <th>rm</th>\n      <th>age</th>\n      <th>dis</th>\n      <th>rad</th>\n      <th>tax</th>\n      <th>ptratio</th>\n      <th>black</th>\n      <th>lstat</th>\n      <th>medv</th>\n      <th>rem_out</th>\n      <th>out_win</th>\n    </tr>\n  </thead>\n  <tbody>\n    <tr>\n      <th>0</th>\n      <td>0.15876</td>\n      <td>0.0</td>\n      <td>10.81</td>\n      <td>0.0</td>\n      <td>0.413</td>\n      <td>5.961</td>\n      <td>17.5</td>\n      <td>5.2873</td>\n      <td>4.0</td>\n      <td>305.0</td>\n      <td>19.2</td>\n      <td>376.94</td>\n      <td>9.88</td>\n      <td>21.7</td>\n      <td>17.5</td>\n      <td>26.554654</td>\n    </tr>\n    <tr>\n      <th>1</th>\n      <td>0.10328</td>\n      <td>25.0</td>\n      <td>5.13</td>\n      <td>0.0</td>\n      <td>0.453</td>\n      <td>5.927</td>\n      <td>47.2</td>\n      <td>6.9320</td>\n      <td>8.0</td>\n      <td>284.0</td>\n      <td>19.7</td>\n      <td>396.90</td>\n      <td>9.22</td>\n      <td>19.6</td>\n      <td>47.2</td>\n      <td>47.200000</td>\n    </tr>\n    <tr>\n      <th>2</th>\n      <td>0.34940</td>\n      <td>0.0</td>\n      <td>9.90</td>\n      <td>0.0</td>\n      <td>0.544</td>\n      <td>5.972</td>\n      <td>76.7</td>\n      <td>3.1025</td>\n      <td>4.0</td>\n      <td>304.0</td>\n      <td>18.4</td>\n      <td>396.24</td>\n      <td>9.97</td>\n      <td>20.3</td>\n      <td>76.7</td>\n      <td>76.700000</td>\n    </tr>\n    <tr>\n      <th>3</th>\n      <td>2.73397</td>\n      <td>0.0</td>\n      <td>19.58</td>\n      <td>0.0</td>\n      <td>0.871</td>\n      <td>5.597</td>\n      <td>94.9</td>\n      <td>1.5257</td>\n      <td>5.0</td>\n      <td>403.0</td>\n      <td>14.7</td>\n      <td>351.85</td>\n      <td>21.45</td>\n      <td>15.4</td>\n      <td>94.9</td>\n      <td>94.900000</td>\n    </tr>\n    <tr>\n      <th>4</th>\n      <td>0.04337</td>\n      <td>21.0</td>\n      <td>5.64</td>\n      <td>0.0</td>\n      <td>0.439</td>\n      <td>6.115</td>\n      <td>63.0</td>\n      <td>6.8147</td>\n      <td>4.0</td>\n      <td>243.0</td>\n      <td>16.8</td>\n      <td>393.97</td>\n      <td>9.43</td>\n      <td>20.5</td>\n      <td>63.0</td>\n      <td>63.000000</td>\n    </tr>\n    <tr>\n      <th>...</th>\n      <td>...</td>\n      <td>...</td>\n      <td>...</td>\n      <td>...</td>\n      <td>...</td>\n      <td>...</td>\n      <td>...</td>\n      <td>...</td>\n      <td>...</td>\n      <td>...</td>\n      <td>...</td>\n      <td>...</td>\n      <td>...</td>\n      <td>...</td>\n      <td>...</td>\n      <td>...</td>\n    </tr>\n    <tr>\n      <th>399</th>\n      <td>9.32909</td>\n      <td>0.0</td>\n      <td>18.10</td>\n      <td>0.0</td>\n      <td>0.713</td>\n      <td>6.185</td>\n      <td>98.7</td>\n      <td>2.2616</td>\n      <td>24.0</td>\n      <td>666.0</td>\n      <td>20.2</td>\n      <td>396.90</td>\n      <td>18.13</td>\n      <td>14.1</td>\n      <td>98.7</td>\n      <td>98.700000</td>\n    </tr>\n    <tr>\n      <th>400</th>\n      <td>51.13580</td>\n      <td>0.0</td>\n      <td>18.10</td>\n      <td>0.0</td>\n      <td>0.597</td>\n      <td>5.757</td>\n      <td>100.0</td>\n      <td>1.4130</td>\n      <td>24.0</td>\n      <td>666.0</td>\n      <td>20.2</td>\n      <td>2.60</td>\n      <td>10.11</td>\n      <td>15.0</td>\n      <td>100.0</td>\n      <td>100.000000</td>\n    </tr>\n    <tr>\n      <th>401</th>\n      <td>0.01501</td>\n      <td>90.0</td>\n      <td>1.21</td>\n      <td>1.0</td>\n      <td>0.401</td>\n      <td>7.923</td>\n      <td>24.8</td>\n      <td>5.8850</td>\n      <td>1.0</td>\n      <td>198.0</td>\n      <td>13.6</td>\n      <td>395.52</td>\n      <td>3.16</td>\n      <td>50.0</td>\n      <td>24.8</td>\n      <td>26.554654</td>\n    </tr>\n    <tr>\n      <th>402</th>\n      <td>0.02055</td>\n      <td>85.0</td>\n      <td>0.74</td>\n      <td>0.0</td>\n      <td>0.410</td>\n      <td>6.383</td>\n      <td>35.7</td>\n      <td>9.1876</td>\n      <td>2.0</td>\n      <td>313.0</td>\n      <td>17.3</td>\n      <td>396.90</td>\n      <td>5.77</td>\n      <td>24.7</td>\n      <td>35.7</td>\n      <td>35.700000</td>\n    </tr>\n    <tr>\n      <th>403</th>\n      <td>0.08244</td>\n      <td>30.0</td>\n      <td>4.93</td>\n      <td>0.0</td>\n      <td>0.428</td>\n      <td>6.481</td>\n      <td>18.5</td>\n      <td>6.1899</td>\n      <td>6.0</td>\n      <td>300.0</td>\n      <td>16.6</td>\n      <td>379.41</td>\n      <td>6.36</td>\n      <td>23.7</td>\n      <td>18.5</td>\n      <td>26.554654</td>\n    </tr>\n  </tbody>\n</table>\n<p>404 rows × 16 columns</p>\n</div>"
     },
     "execution_count": 31,
     "metadata": {},
     "output_type": "execute_result"
    }
   ],
   "source": [
    "df"
   ],
   "metadata": {
    "collapsed": false,
    "pycharm": {
     "name": "#%%\n"
    }
   }
  },
  {
   "cell_type": "code",
   "execution_count": null,
   "outputs": [],
   "source": [],
   "metadata": {
    "collapsed": false,
    "pycharm": {
     "name": "#%%\n"
    }
   }
  }
 ],
 "metadata": {
  "kernelspec": {
   "display_name": "Python 3",
   "language": "python",
   "name": "python3"
  },
  "language_info": {
   "codemirror_mode": {
    "name": "ipython",
    "version": 2
   },
   "file_extension": ".py",
   "mimetype": "text/x-python",
   "name": "python",
   "nbconvert_exporter": "python",
   "pygments_lexer": "ipython2",
   "version": "2.7.6"
  }
 },
 "nbformat": 4,
 "nbformat_minor": 0
}