{
 "cells": [
  {
   "cell_type": "markdown",
   "metadata": {
    "id": "QY7NwADGxvx1"
   },
   "source": [
    "###\t\t\t**Module 12**\n",
    "Use Functional API to build a model on MNIST Dataset from keras"
   ]
  },
  {
   "cell_type": "code",
   "execution_count": 1,
   "metadata": {
    "id": "6eFdwhH1x9-u"
   },
   "outputs": [],
   "source": [
    "# import libraries\n",
    "import numpy as np\n",
    "import tensorflow as tf\n",
    "from tensorflow.keras.layers import Dense, Dropout, Input\n",
    "from tensorflow.keras.layers import Conv2D, MaxPooling2D, Flatten\n",
    "from tensorflow.keras.models import Model\n",
    "from tensorflow.keras.datasets import mnist\n",
    "from tensorflow.keras.utils import to_categorical"
   ]
  },
  {
   "cell_type": "code",
   "execution_count": 2,
   "metadata": {
    "colab": {
     "base_uri": "https://localhost:8080/"
    },
    "id": "ll1APjagyEXF",
    "outputId": "42610967-914f-49dc-dbfe-e164f97d82ec"
   },
   "outputs": [],
   "source": [
    "# load data\n",
    "(x_train, y_train), (x_test, y_test) = mnist.load_data()\n",
    "\n",
    "# convert sparse label to categorical values\n",
    "num_labels = len(np.unique(y_train))\n",
    "y_train = to_categorical(y_train)\n",
    "y_test = to_categorical(y_test)"
   ]
  },
  {
   "cell_type": "code",
   "execution_count": 3,
   "metadata": {
    "id": "ndMKC-SYyIQG"
   },
   "outputs": [],
   "source": [
    "# preprocess the input images\n",
    "image_size = x_train.shape[1]\n",
    "x_train = np.reshape(x_train,[-1, image_size, image_size, 1])\n",
    "x_test = np.reshape(x_test,[-1, image_size, image_size, 1])\n",
    "x_train = x_train.astype('float32') / 255\n",
    "x_test = x_test.astype('float32') / 255"
   ]
  },
  {
   "cell_type": "code",
   "execution_count": 4,
   "metadata": {
    "id": "C8KX95dhyIlt"
   },
   "outputs": [],
   "source": [
    "# parameters for the network\n",
    "input_shape = (image_size, image_size, 1)\n",
    "batch_size = 128\n",
    "kernel_size = 3\n",
    "filters = 64\n",
    "dropout = 0.3"
   ]
  },
  {
   "cell_type": "code",
   "execution_count": 5,
   "metadata": {
    "id": "wQLNp9ATyItu"
   },
   "outputs": [],
   "source": [
    "# utiliaing functional API to build cnn layers\n",
    "inputs = Input(shape=input_shape)\n",
    "y = Conv2D(filters=filters,kernel_size=kernel_size,activation='relu')(inputs)\n",
    "y = MaxPooling2D()(y)\n",
    "y = Conv2D(filters=filters,kernel_size=kernel_size,activation='relu')(y)\n",
    "y = MaxPooling2D()(y)\n",
    "y = Conv2D(filters=filters,kernel_size=kernel_size,activation='relu')(y)\n",
    "# convert image to vector \n",
    "y = Flatten()(y)\n",
    "# dropout regularization\n",
    "y = Dropout(dropout)(y)\n",
    "outputs = Dense(num_labels, activation='softmax')(y)\n",
    "# model building by supplying inputs/outputs\n",
    "model = Model(inputs=inputs, outputs=outputs)"
   ]
  },
  {
   "cell_type": "code",
   "execution_count": null,
   "metadata": {
    "colab": {
     "base_uri": "https://localhost:8080/"
    },
    "id": "trnM4dygyIzv",
    "outputId": "8b860fe5-1636-4750-d2ef-9a99bd82c92a"
   },
   "outputs": [
    {
     "name": "stdout",
     "output_type": "stream",
     "text": [
      "Epoch 1/20\n",
      "469/469 [==============================] - 21s 13ms/step - loss: 0.2720 - accuracy: 0.9157 - val_loss: 0.0553 - val_accuracy: 0.9825\n",
      "Epoch 2/20\n",
      "469/469 [==============================] - 5s 11ms/step - loss: 0.0743 - accuracy: 0.9766 - val_loss: 0.0374 - val_accuracy: 0.9885\n",
      "Epoch 3/20\n",
      "469/469 [==============================] - 5s 12ms/step - loss: 0.0528 - accuracy: 0.9835 - val_loss: 0.0309 - val_accuracy: 0.9904\n",
      "Epoch 4/20\n",
      "469/469 [==============================] - 5s 11ms/step - loss: 0.0437 - accuracy: 0.9866 - val_loss: 0.0269 - val_accuracy: 0.9911\n",
      "Epoch 5/20\n",
      "469/469 [==============================] - 5s 11ms/step - loss: 0.0365 - accuracy: 0.9887 - val_loss: 0.0250 - val_accuracy: 0.9919\n",
      "Epoch 6/20\n",
      "469/469 [==============================] - 6s 12ms/step - loss: 0.0310 - accuracy: 0.9900 - val_loss: 0.0225 - val_accuracy: 0.9929\n",
      "Epoch 7/20\n",
      "469/469 [==============================] - 6s 12ms/step - loss: 0.0280 - accuracy: 0.9910 - val_loss: 0.0235 - val_accuracy: 0.9925\n",
      "Epoch 8/20\n",
      "469/469 [==============================] - 5s 11ms/step - loss: 0.0235 - accuracy: 0.9929 - val_loss: 0.0222 - val_accuracy: 0.9918\n",
      "Epoch 9/20\n",
      "469/469 [==============================] - 5s 11ms/step - loss: 0.0216 - accuracy: 0.9931 - val_loss: 0.0245 - val_accuracy: 0.9923\n",
      "Epoch 10/20\n",
      "469/469 [==============================] - 5s 11ms/step - loss: 0.0186 - accuracy: 0.9941 - val_loss: 0.0235 - val_accuracy: 0.9929\n",
      "Epoch 11/20\n",
      "469/469 [==============================] - 6s 12ms/step - loss: 0.0181 - accuracy: 0.9938 - val_loss: 0.0243 - val_accuracy: 0.9927\n",
      "Epoch 12/20\n",
      "290/469 [=================>............] - ETA: 2s - loss: 0.0158 - accuracy: 0.9949"
     ]
    }
   ],
   "source": [
    "#compiling and fitting model\n",
    "model.compile(loss='categorical_crossentropy',optimizer='adam',metrics=['accuracy'])\n",
    "model.fit(x_train,y_train,validation_data=(x_test, y_test),epochs=20,batch_size=batch_size)"
   ]
  },
  {
   "cell_type": "code",
   "execution_count": null,
   "metadata": {
    "colab": {
     "base_uri": "https://localhost:8080/"
    },
    "id": "tti8tuEBxxU6",
    "outputId": "b4e36051-982c-468a-b070-b28e141624c4"
   },
   "outputs": [
    {
     "name": "stdout",
     "output_type": "stream",
     "text": [
      "Test accuracy: 99.3%\n"
     ]
    }
   ],
   "source": [
    "# accuracy evaluation\n",
    "score = model.evaluate(x_test, y_test,batch_size=batch_size,verbose=0)\n",
    "print(\"Test accuracy: %.1f%%\" % (100.0 * score[1]))"
   ]
  }
 ],
 "metadata": {
  "accelerator": "GPU",
  "colab": {
   "collapsed_sections": [],
   "name": "Func_api.ipynb",
   "provenance": []
  },
  "kernelspec": {
   "display_name": "Python 3 (ipykernel)",
   "language": "python",
   "name": "python3"
  },
  "language_info": {
   "codemirror_mode": {
    "name": "ipython",
    "version": 3
   },
   "file_extension": ".py",
   "mimetype": "text/x-python",
   "name": "python",
   "nbconvert_exporter": "python",
   "pygments_lexer": "ipython3",
   "version": "3.9.7"
  }
 },
 "nbformat": 4,
 "nbformat_minor": 1
}
