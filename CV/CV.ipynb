{
 "cells": [
  {
   "cell_type": "code",
   "execution_count": null,
   "id": "4def98ed",
   "metadata": {},
   "outputs": [],
   "source": [
    "import os\n",
    "from os import getcwd\n",
    "import cv2\n",
    "import numpy as np"
   ]
  },
  {
   "cell_type": "code",
   "execution_count": null,
   "id": "0463963b",
   "metadata": {},
   "outputs": [],
   "source": [
    "path_fullbody =\"C:/Users/raja/Untitled Folder/Computer Vision and Image Processing/haarcascade_fullbody.xml\"  \n",
    "\n",
    "body_classifier = cv2.CascadeClassifier(path_fullbody)"
   ]
  },
  {
   "cell_type": "code",
   "execution_count": null,
   "id": "52e95394",
   "metadata": {},
   "outputs": [],
   "source": [
    "#Capture Video\n",
    "\n",
    "path_video = \"D:/DATA SCIENCES/AI Assignments/Computer Vision and Image Processing/walking.avi\"\n",
    "cap = cv2.VideoCapture(path_video)\n"
   ]
  },
  {
   "cell_type": "code",
   "execution_count": null,
   "id": "132586f3",
   "metadata": {},
   "outputs": [],
   "source": [
    "while cap.isOpened():\n",
    "    \n",
    "    # read the capture\n",
    "    ret, frame = cap.read() \n",
    "    \n",
    "    # pass the frame to the Classifier\n",
    "    bodies = body_classifier.detectMultiScale(frame, 1.2, 3)          \n",
    "    \n",
    "    if ret == True:\n",
    "        \n",
    "        # bound boxes to Identified Bodies\n",
    "        for (x,y,w,h) in bodies:\n",
    "            cv2.rectangle(frame,\n",
    "                         (x,y),\n",
    "                         (x+w, y+h),\n",
    "                         (25, 125, 225),\n",
    "                         5)\n",
    "            \n",
    "            cv2.imshow('Pedestrians', frame)\n",
    "            \n",
    "        # exit with ESC button    \n",
    "        if cv2.waitKey(1) == 27:\n",
    "            break\n",
    "            \n",
    "    else:\n",
    "        break\n",
    "\n",
    "# Release the Capture and Destroy All Windows\n",
    "cap.release()\n",
    "cv2.destroyAllWindows()"
   ]
  }
 ],
 "metadata": {
  "kernelspec": {
   "display_name": "Python 3 (ipykernel)",
   "language": "python",
   "name": "python3"
  },
  "language_info": {
   "codemirror_mode": {
    "name": "ipython",
    "version": 3
   },
   "file_extension": ".py",
   "mimetype": "text/x-python",
   "name": "python",
   "nbconvert_exporter": "python",
   "pygments_lexer": "ipython3",
   "version": "3.9.7"
  }
 },
 "nbformat": 4,
 "nbformat_minor": 5
}
